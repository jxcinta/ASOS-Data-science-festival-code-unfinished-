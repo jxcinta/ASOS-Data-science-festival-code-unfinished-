{
  "nbformat": 4,
  "nbformat_minor": 0,
  "metadata": {
    "kernelspec": {
      "display_name": "Python 3",
      "language": "python",
      "name": "python3"
    },
    "language_info": {
      "codemirror_mode": {
        "name": "ipython",
        "version": 3
      },
      "file_extension": ".py",
      "mimetype": "text/x-python",
      "name": "python",
      "nbconvert_exporter": "python",
      "pygments_lexer": "ipython3",
      "version": "3.7.1"
    },
    "colab": {
      "name": "DSF-ASOS_Build_and_Deploy_a_Recommender_in_3_Hours.ipynb",
      "provenance": []
    }
  },
  "cells": [
    {
      "cell_type": "markdown",
      "metadata": {
        "id": "WcRvbb_SOlcB"
      },
      "source": [
        "# Data Science Festival x ASOS\n",
        "## Build and Deploy a Recommender System in 3 Hours."
      ]
    },
    {
      "cell_type": "markdown",
      "metadata": {
        "id": "MdT6v6dSOlcD"
      },
      "source": [
        "# Imports"
      ]
    },
    {
      "cell_type": "code",
      "metadata": {
        "id": "gzbHMTjGOlcE"
      },
      "source": [
        "import numpy as np\n",
        "import pandas as pd\n",
        "import tensorflow as tf\n",
        "import os"
      ],
      "execution_count": 1,
      "outputs": []
    },
    {
      "cell_type": "markdown",
      "metadata": {
        "id": "KLgALZ5JOlcN"
      },
      "source": [
        "# Import training data"
      ]
    },
    {
      "cell_type": "code",
      "metadata": {
        "id": "Zg_mH_4wOlcO"
      },
      "source": [
        "train = pd.read_parquet(\"https://raw.githubusercontent.com/ASOS/dsf2020/main/dsf_asos_train_with_alphanumeric_dummy_ids.parquet\")\n",
        "valid = pd.read_parquet(\"https://raw.githubusercontent.com/ASOS/dsf2020/main/dsf_asos_valid_with_alphanumeric_dummy_ids.parquet\")\n",
        "dummy_users = pd.read_csv(\"https://raw.githubusercontent.com/ASOS/dsf2020/main/dsf_asos_dummy_users_with_alphanumeric_dummy_ids.csv\", header=None).values.flatten().astype(str)\n",
        "products = pd.read_csv(\"https://raw.githubusercontent.com/ASOS/dsf2020/main/dsf_asos_productIds.csv\", header=None).values.flatten().astype(int)"
      ],
      "execution_count": 2,
      "outputs": []
    },
    {
      "cell_type": "markdown",
      "metadata": {
        "id": "3KNnSRU9OldG"
      },
      "source": [
        "# Define a Recommender Model"
      ]
    },
    {
      "cell_type": "markdown",
      "metadata": {
        "id": "3migIM1ZOldH"
      },
      "source": [
        "The embedding layer gives a list of random numbers for each user and each product."
      ]
    },
    {
      "cell_type": "code",
      "metadata": {
        "id": "A92zAH3KOldH"
      },
      "source": [
        "embedl=tf.keras.layers.Embedding(5,8)"
      ],
      "execution_count": 3,
      "outputs": []
    },
    {
      "cell_type": "code",
      "metadata": {
        "id": "12y73LESdky2",
        "outputId": "952a67ba-33e3-402f-f71a-2af384c691ed",
        "colab": {
          "base_uri": "https://localhost:8080/"
        }
      },
      "source": [
        "embedl(2)"
      ],
      "execution_count": 4,
      "outputs": [
        {
          "output_type": "execute_result",
          "data": {
            "text/plain": [
              "<tf.Tensor: shape=(8,), dtype=float32, numpy=\n",
              "array([-0.02031223, -0.00652564, -0.00809907, -0.00073647,  0.010148  ,\n",
              "        0.03576307,  0.03502304,  0.01398713], dtype=float32)>"
            ]
          },
          "metadata": {
            "tags": []
          },
          "execution_count": 4
        }
      ]
    },
    {
      "cell_type": "code",
      "metadata": {
        "id": "2c-iRD63dmx0",
        "outputId": "fe38f288-febc-44f1-fe41-7069407ae229",
        "colab": {
          "base_uri": "https://localhost:8080/"
        }
      },
      "source": [
        "embedl.get_weights()"
      ],
      "execution_count": 5,
      "outputs": [
        {
          "output_type": "execute_result",
          "data": {
            "text/plain": [
              "[array([[ 0.0433723 ,  0.0340793 ,  0.0307896 , -0.02576753, -0.03491094,\n",
              "          0.00023193,  0.02533541, -0.00245831],\n",
              "        [-0.03951852, -0.00593704,  0.0107357 ,  0.01175468, -0.01882541,\n",
              "          0.04822339,  0.04872878,  0.01896887],\n",
              "        [-0.02031223, -0.00652564, -0.00809907, -0.00073647,  0.010148  ,\n",
              "          0.03576307,  0.03502304,  0.01398713],\n",
              "        [-0.00018657, -0.00194967,  0.00296764,  0.01016546,  0.04235235,\n",
              "         -0.04009102,  0.01080426, -0.01414054],\n",
              "        [ 0.02586014,  0.02664882, -0.02230787, -0.04147078,  0.04201274,\n",
              "         -0.03548731, -0.00069854,  0.02628198]], dtype=float32)]"
            ]
          },
          "metadata": {
            "tags": []
          },
          "execution_count": 5
        }
      ]
    },
    {
      "cell_type": "markdown",
      "metadata": {
        "id": "OSIJiVDWOldK"
      },
      "source": [
        "Scores can be found using the dot product."
      ]
    },
    {
      "cell_type": "code",
      "metadata": {
        "id": "E-e81SaOOldL",
        "outputId": "7fcefe92-7afc-4a0a-a56e-d7bdbb17442f",
        "colab": {
          "base_uri": "https://localhost:8080/"
        }
      },
      "source": [
        "dummy_users"
      ],
      "execution_count": 6,
      "outputs": [
        {
          "output_type": "execute_result",
          "data": {
            "text/plain": [
              "array(['pmfkU4BNZhmtLgJQwJ7x', 'UDRRwOlzlWVbu7H8YCCi',\n",
              "       'QHGAef0TI6dhn0wTogvW', ..., 'lcORJ5hemOZc1iGo9z7k',\n",
              "       '5CqDquDAszqJp27P7AL8', 'SSPNYxJMfuKhoe1dg24m'], dtype='<U20')"
            ]
          },
          "metadata": {
            "tags": []
          },
          "execution_count": 6
        }
      ]
    },
    {
      "cell_type": "code",
      "metadata": {
        "id": "5d00j68Ndulb"
      },
      "source": [
        "dummy_user_embedding = tf.keras.layers.Embedding(len(dummy_users), 6)\n",
        "product_embedding = tf.keras.layers.Embedding(len(products),6)"
      ],
      "execution_count": 7,
      "outputs": []
    },
    {
      "cell_type": "code",
      "metadata": {
        "id": "lMNenMRPduv7",
        "outputId": "33278faa-3147-4944-da9a-6c4d07f45d54",
        "colab": {
          "base_uri": "https://localhost:8080/"
        }
      },
      "source": [
        "dummy_user_embedding(1)"
      ],
      "execution_count": 8,
      "outputs": [
        {
          "output_type": "execute_result",
          "data": {
            "text/plain": [
              "<tf.Tensor: shape=(6,), dtype=float32, numpy=\n",
              "array([-0.03877491, -0.01857798,  0.03060961, -0.03985148,  0.03403682,\n",
              "        0.04765603], dtype=float32)>"
            ]
          },
          "metadata": {
            "tags": []
          },
          "execution_count": 8
        }
      ]
    },
    {
      "cell_type": "code",
      "metadata": {
        "id": "sfQb2VxudxJM",
        "outputId": "ee3b935a-d14a-48cd-8aca-cc481865b572",
        "colab": {
          "base_uri": "https://localhost:8080/"
        }
      },
      "source": [
        "product_embedding(99)"
      ],
      "execution_count": 9,
      "outputs": [
        {
          "output_type": "execute_result",
          "data": {
            "text/plain": [
              "<tf.Tensor: shape=(6,), dtype=float32, numpy=\n",
              "array([-0.04018484,  0.01880142,  0.01420439, -0.01192355,  0.04829713,\n",
              "       -0.00769155], dtype=float32)>"
            ]
          },
          "metadata": {
            "tags": []
          },
          "execution_count": 9
        }
      ]
    },
    {
      "cell_type": "markdown",
      "metadata": {
        "id": "GDBVols1OldP"
      },
      "source": [
        "We can score multiple products at the same time, which is what we need to create a ranking."
      ]
    },
    {
      "cell_type": "code",
      "metadata": {
        "id": "FWXhspYZOldP",
        "outputId": "dd4ad861-6f7f-4f91-f629-4a9465449cb6",
        "colab": {
          "base_uri": "https://localhost:8080/"
        }
      },
      "source": [
        "example_product = tf.constant([1,77,104,2026])\n",
        "product_embedding(example_product)"
      ],
      "execution_count": 10,
      "outputs": [
        {
          "output_type": "execute_result",
          "data": {
            "text/plain": [
              "<tf.Tensor: shape=(4, 6), dtype=float32, numpy=\n",
              "array([[ 0.04389915, -0.02098562,  0.0093928 , -0.01212398, -0.04824851,\n",
              "         0.03075099],\n",
              "       [-0.00081811, -0.04762458,  0.00214016, -0.04533006,  0.04554219,\n",
              "        -0.00096775],\n",
              "       [ 0.00892078, -0.0465144 ,  0.0340861 ,  0.00752052,  0.00444318,\n",
              "         0.00236888],\n",
              "       [-0.03004528,  0.03948194,  0.03390433,  0.04078564,  0.04174389,\n",
              "        -0.02734616]], dtype=float32)>"
            ]
          },
          "metadata": {
            "tags": []
          },
          "execution_count": 10
        }
      ]
    },
    {
      "cell_type": "markdown",
      "metadata": {
        "id": "ZG80rcFvOldT"
      },
      "source": [
        "And we can score multiple users for multiple products which we will need to do if we are to train quickly."
      ]
    },
    {
      "cell_type": "code",
      "metadata": {
        "id": "Pk9wEyDKOldU",
        "outputId": "4b234ef6-e030-4f11-f402-63f16f39a030",
        "colab": {
          "base_uri": "https://localhost:8080/"
        }
      },
      "source": [
        "tf.tensordot(dummy_user_embedding(1), product_embedding(example_product), axes=[[0],[1]])"
      ],
      "execution_count": 11,
      "outputs": [
        {
          "output_type": "execute_result",
          "data": {
            "text/plain": [
              "<tf.Tensor: shape=(4,), dtype=float32, numpy=\n",
              "array([-7.1840239e-04,  4.2924620e-03,  1.5260228e-03, -3.8441623e-05],\n",
              "      dtype=float32)>"
            ]
          },
          "metadata": {
            "tags": []
          },
          "execution_count": 11
        }
      ]
    },
    {
      "cell_type": "markdown",
      "metadata": {
        "id": "6v88i42pOldW"
      },
      "source": [
        "But we need to map product ids to embedding ids."
      ]
    },
    {
      "cell_type": "code",
      "metadata": {
        "id": "t2jxhh5BOldX"
      },
      "source": [
        "product_table = tf.lookup.StaticHashTable(\n",
        "    tf.lookup.KeyValueTensorInitializer(tf.constant(products, dtype=tf.int32), \n",
        "                                        range(len(products))), -1)"
      ],
      "execution_count": 12,
      "outputs": []
    },
    {
      "cell_type": "markdown",
      "metadata": {
        "id": "2uXU4rn3Olda"
      },
      "source": [
        "Let's put those two things together"
      ]
    },
    {
      "cell_type": "code",
      "metadata": {
        "id": "d4D-vgy1Olda"
      },
      "source": [
        "class SimpleRecommender(tf.keras.Model):\n",
        "    def __init__(self, dummy_users, products, length_of_embedding):\n",
        "        super(SimpleRecommender, self).__init__()\n",
        "        self.products = tf.constant(products, dtype=tf.int32)\n",
        "        self.dummy_users = tf.constant(dummy_users, dtype=tf.string)\n",
        "        self.dummy_user_table = tf.lookup.StaticHashTable(tf.lookup.KeyValueTensorInitializer(self.dummy_users, range(len(dummy_users))), -1)\n",
        "        self.product_table = tf.lookup.StaticHashTable(tf.lookup.KeyValueTensorInitializer(self.products, range(len(products))), -1)\n",
        "        \n",
        "        self.user_embedding = tf.keras.layers.Embedding(len(dummy_users), length_of_embedding)\n",
        "        self.product_embedding = tf.keras.layers.Embedding(len(products), length_of_embedding)\n",
        "\n",
        "        self.dot = tf.keras.layers.Dot(axes = -1)\n",
        "        \n",
        "    def call(self, inputs):\n",
        "        user = inputs[0]\n",
        "        products = inputs[1]\n",
        "        user_embedding_index = self.dummy_user_table.lookup(user)\n",
        "        product_embedding_index = self.product_table.lookup(products)\n",
        "        user_embedding_values = self.user_embedding(user_embedding_index)\n",
        "        product_embedding_values = self.product_embedding(product_embedding_index)\n",
        "\n",
        "        return tf.squeeze(self.dot([user_embedding_values, product_embedding_values]), 1)\n",
        "    \n",
        "    @tf.function\n",
        "    def call_item_item(self, product):\n",
        "        product_x = self.product_table.lookup(product)\n",
        "        pe = tf.expand_dims(self.product_embedding(product_x), 0)\n",
        "        \n",
        "        all_pe = tf.expand_dims(self.product_embedding.embeddings, 0)#note this only works if the layer has been built!\n",
        "        scores = tf.reshape(self.dot([pe, all_pe]), [-1])\n",
        "        \n",
        "        top_scores, top_indices = tf.math.top_k(scores, k=100)\n",
        "        top_ids = tf.gather(self.products, top_indices)\n",
        "        return top_ids, top_scores"
      ],
      "execution_count": 15,
      "outputs": []
    },
    {
      "cell_type": "code",
      "metadata": {
        "id": "0quLt_SReImc",
        "outputId": "4eabf2e9-01f9-4236-8355-41430a60ea25",
        "colab": {
          "base_uri": "https://localhost:8080/"
        }
      },
      "source": [
        "srl = SimpleRecommender(dummy_users, products, 15)\n",
        "srl([tf.constant([['pmfkU4BNZhmtLgJQwJ7x'], ['UDRRwOlzlWVbu7H8YCCi']]),\n",
        "     tf.constant([[8650774,9306139,9961521], [12058614,12058615,11927550]])])"
      ],
      "execution_count": 16,
      "outputs": [
        {
          "output_type": "execute_result",
          "data": {
            "text/plain": [
              "<tf.Tensor: shape=(2, 3), dtype=float32, numpy=\n",
              "array([[ 4.9216463e-03, -3.6392447e-03, -5.0791702e-04],\n",
              "       [ 1.4764969e-05, -1.6119204e-03, -7.9826411e-04]], dtype=float32)>"
            ]
          },
          "metadata": {
            "tags": []
          },
          "execution_count": 16
        }
      ]
    },
    {
      "cell_type": "markdown",
      "metadata": {
        "id": "SxgL7HopOlde"
      },
      "source": [
        "# Creating a dataset"
      ]
    },
    {
      "cell_type": "markdown",
      "metadata": {
        "id": "Y57-RJhOOldf"
      },
      "source": [
        "First create a tf.data.Dataset from the user purchase pairs."
      ]
    },
    {
      "cell_type": "code",
      "metadata": {
        "id": "8-Tn0F5VOldg",
        "outputId": "1b00998a-f624-4ee9-c754-c859e83ddef0",
        "colab": {
          "base_uri": "https://localhost:8080/"
        }
      },
      "source": [
        "dummy_user_tensor = tf.constant(train[[\"dummyUserId\"]].values, dtype=tf.string)\n",
        "product_tensor = tf.constant(train[[\"productId\"]].values, dtype=tf.int32)\n",
        "\n",
        "dataset = tf.data.Dataset.from_tensor_slices((dummy_user_tensor, product_tensor))\n",
        "for x, y in dataset:\n",
        "    print(x)\n",
        "    print(y)\n",
        "    break"
      ],
      "execution_count": 17,
      "outputs": [
        {
          "output_type": "stream",
          "text": [
            "tf.Tensor([b'PIXcm7Ru5KmntCy0yA1K'], shape=(1,), dtype=string)\n",
            "tf.Tensor([10524048], shape=(1,), dtype=int32)\n"
          ],
          "name": "stdout"
        }
      ]
    },
    {
      "cell_type": "code",
      "metadata": {
        "id": "J-pbGKCqeRfz",
        "outputId": "d32aed39-07bb-4e74-f088-7bff82f8abe3",
        "colab": {
          "base_uri": "https://localhost:8080/"
        }
      },
      "source": [
        "random_negatives = tf.random.uniform((7,), minval = 0, maxval = len(products), dtype = tf.int32 )\n",
        "random_negatives"
      ],
      "execution_count": 18,
      "outputs": [
        {
          "output_type": "execute_result",
          "data": {
            "text/plain": [
              "<tf.Tensor: shape=(7,), dtype=int32, numpy=array([25148, 16185, 29442,  5660, 28729, 26461, 13512], dtype=int32)>"
            ]
          },
          "metadata": {
            "tags": []
          },
          "execution_count": 18
        }
      ]
    },
    {
      "cell_type": "code",
      "metadata": {
        "id": "0LIjN4uUeTw1",
        "outputId": "808e3513-f96b-4ad9-a461-a332a7d52cf8",
        "colab": {
          "base_uri": "https://localhost:8080/"
        }
      },
      "source": [
        "tf.gather(products, random_negatives)"
      ],
      "execution_count": 19,
      "outputs": [
        {
          "output_type": "execute_result",
          "data": {
            "text/plain": [
              "<tf.Tensor: shape=(7,), dtype=int64, numpy=\n",
              "array([12039919, 11475282, 11140017, 10379216, 10875377,  6802634,\n",
              "       10414804])>"
            ]
          },
          "metadata": {
            "tags": []
          },
          "execution_count": 19
        }
      ]
    },
    {
      "cell_type": "code",
      "metadata": {
        "id": "1K-ITnz8eWCb"
      },
      "source": [
        "possible_products = [x for x in products if x not in random_negatives]\n",
        "possible_products_tensor = tf.constant(train[[\"productId\"]].values, dtype=tf.int32)"
      ],
      "execution_count": 20,
      "outputs": []
    },
    {
      "cell_type": "markdown",
      "metadata": {
        "id": "UcXsoHYfOldj"
      },
      "source": [
        "For each purchase let's sample a number of products that the user did not purchase. Then the model can score each of the products and we will know we are doing a good job if the product with the highest score is the product that the user actually purchased.\n",
        "\n",
        "We can do this using dataset.map"
      ]
    },
    {
      "cell_type": "code",
      "metadata": {
        "id": "u0474RJmegMM",
        "outputId": "93f6bbec-8d0b-4859-d507-0c25ca92b945",
        "colab": {
          "base_uri": "https://localhost:8080/"
        }
      },
      "source": [
        "tf.one_hot(0, depth = 11)"
      ],
      "execution_count": 21,
      "outputs": [
        {
          "output_type": "execute_result",
          "data": {
            "text/plain": [
              "<tf.Tensor: shape=(11,), dtype=float32, numpy=array([1., 0., 0., 0., 0., 0., 0., 0., 0., 0., 0.], dtype=float32)>"
            ]
          },
          "metadata": {
            "tags": []
          },
          "execution_count": 21
        }
      ]
    },
    {
      "cell_type": "code",
      "metadata": {
        "id": "68xHSZesejQk"
      },
      "source": [
        "class Mapper():\n",
        "    \n",
        "    def __init__(self, possible_products, num_negative_products):\n",
        "        self.num_possible_products = len(possible_products)\n",
        "        self.possible_products_tensor = tf.constant(possible_products, dtype=tf.int32)\n",
        "        \n",
        "        self.num_negative_products = num_negative_products\n",
        "        self.y = tf.one_hot(0, num_negative_products+1)\n",
        "    \n",
        "    def __call__(self, user, product):\n",
        "      random_negatives = tf.random.uniform((self.num_possible_products, ), minval = 0, maxval = self.num_possible_products, dtype = tf.int32)\n",
        "      negatives = tf.gather(self,possible_products_tensor, random_negatives)\n",
        "      candidates = tf.concat([product, negatives], axis = 0)\n",
        "      return (user, candidates), self.y"
      ],
      "execution_count": 22,
      "outputs": []
    },
    {
      "cell_type": "markdown",
      "metadata": {
        "id": "YXGedSiKOldn"
      },
      "source": [
        "Let's bring the steps together to define a function which creates a dataset "
      ]
    },
    {
      "cell_type": "code",
      "metadata": {
        "id": "caQiNFMWOldo"
      },
      "source": [
        "def get_dataset(df, products, num_negative_products):\n",
        "  dummy_user_tensor = tf.constant(df[[\"dummyUserId\"]].values, dtype=tf.string)\n",
        "  product_tensor = tf.constant(df[[\"productId\"]].values, dtype=tf.int32)\n",
        "\n",
        "  dataset = tf.data.Dataset.from_tensor_slices((dummy_user_tensor, product_tensor))\n",
        "  dataset = dataset.map(Mapper(products, num_negative_products))\n",
        "  dataset = dataset.batch(1024)\n",
        "  return dataset"
      ],
      "execution_count": 23,
      "outputs": []
    },
    {
      "cell_type": "markdown",
      "metadata": {
        "id": "W0NkUMejOldr"
      },
      "source": [
        "# Train a model"
      ]
    },
    {
      "cell_type": "markdown",
      "metadata": {
        "id": "bCblULdNOlds"
      },
      "source": [
        "We need to compile a model, set the loss and create an evaluation metric. Then we need to train the model."
      ]
    },
    {
      "cell_type": "markdown",
      "metadata": {
        "id": "SzG2azvUOldv"
      },
      "source": [
        "Let's do a manual check on whether the model is any good."
      ]
    },
    {
      "cell_type": "code",
      "metadata": {
        "id": "UIjDLAGei47D"
      },
      "source": [
        "model = SimpleRecommender(dummy_users, products, 15)\n",
        "model.compile(loss = tf.keras.losses.CategoricalCrossentropy(from_logits = True),\n",
        "              optimizer = tf.keras.optimizers.SGD(learning_rate = 100.),\n",
        "              metrics = [tf.keras.metrics.CategoricalAccuracy()])\n",
        "model.fit(get_dataset(train, products, 100), validation_data=get_dataset(valid, products, 100), epochs=5)"
      ],
      "execution_count": null,
      "outputs": []
    },
    {
      "cell_type": "code",
      "metadata": {
        "id": "OElLhFBrOldv"
      },
      "source": [
        "test_product = 11698965"
      ],
      "execution_count": null,
      "outputs": []
    },
    {
      "cell_type": "code",
      "metadata": {
        "id": "IDabFEpnOldy"
      },
      "source": [
        "print(\"Recs for item {}: {}\".format(test_product, model.call_item_item(tf.constant(test_product, dtype=tf.int32))))"
      ],
      "execution_count": null,
      "outputs": []
    },
    {
      "cell_type": "markdown",
      "metadata": {
        "id": "T1HaL0dgOld1"
      },
      "source": [
        "# Save the model"
      ]
    },
    {
      "cell_type": "code",
      "metadata": {
        "id": "4HSpH2X5Old2"
      },
      "source": [
        "model_path = \"models/recommender/1\""
      ],
      "execution_count": null,
      "outputs": []
    },
    {
      "cell_type": "code",
      "metadata": {
        "id": "FLkV5B-tOld4"
      },
      "source": [
        "inpute_signature = tf.TensorSpec(shape=(), dtype=tf.int32)"
      ],
      "execution_count": null,
      "outputs": []
    },
    {
      "cell_type": "code",
      "metadata": {
        "id": "89O6-s8ROld6"
      },
      "source": [
        "signatures = { 'call_item_item': r1.call_item_item.get_concrete_function(inpute_signature)}"
      ],
      "execution_count": null,
      "outputs": []
    },
    {
      "cell_type": "code",
      "metadata": {
        "id": "ZljvLI4AOld9"
      },
      "source": [
        ""
      ],
      "execution_count": null,
      "outputs": []
    },
    {
      "cell_type": "code",
      "metadata": {
        "id": "bgZnonk4OleB"
      },
      "source": [
        "imported_model = tf.saved_model.load('models/recommeder/1')\n",
        "list(imported_model.signatures.keys())"
      ],
      "execution_count": null,
      "outputs": []
    },
    {
      "cell_type": "code",
      "metadata": {
        "id": "6XoKQg21OleD"
      },
      "source": [
        "imported_model.signatures['call_item_item'](tf.constant([14844847]))"
      ],
      "execution_count": null,
      "outputs": []
    },
    {
      "cell_type": "code",
      "metadata": {
        "id": "k81vbA_WOleF"
      },
      "source": [
        "os.makedirs(\"dummy/0\")\n",
        "tf.saved_model.save(model, 'dummy/0')    \n",
        "imported = tf.saved_model.load(\"dummy/0\")\n",
        "imported(tf.constant([14844847]))"
      ],
      "execution_count": null,
      "outputs": []
    },
    {
      "cell_type": "code",
      "metadata": {
        "id": "fA-rsze6OleH"
      },
      "source": [
        "os.makedirs(\"dummy/1\")\n",
        "tf.saved_model.save(model, 'dummy/1',\n",
        "                    model.call_item_item.get_concrete_function(tf.TensorSpec(shape=(), dtype=tf.int32)))      \n",
        "list(imported_model.signatures.keys())"
      ],
      "execution_count": null,
      "outputs": []
    },
    {
      "cell_type": "code",
      "metadata": {
        "id": "jRpJWpOlOleJ"
      },
      "source": [
        "imported_model.signatures['serving_default'](tf.constant([14844847]))"
      ],
      "execution_count": null,
      "outputs": []
    },
    {
      "cell_type": "markdown",
      "metadata": {
        "id": "I_kaRY4eOleL"
      },
      "source": [
        "Zipping the saved model will make it easier to download."
      ]
    },
    {
      "cell_type": "code",
      "metadata": {
        "id": "78p5H-GMOleM"
      },
      "source": [
        "from zipfile import ZipFile\n",
        "import os\n",
        "# create a ZipFile object\n",
        "with ZipFile('recommender.zip', 'w') as zipObj:\n",
        "   # Iterate over all the files in directory\n",
        "    for folderName, subfolders, filenames in os.walk(\"models\"):\n",
        "        for filename in filenames:\n",
        "           #create complete filepath of file in directory\n",
        "           filePath = os.path.join(folderName, filename)\n",
        "           # Add file to zip\n",
        "           zipObj.write(filePath)"
      ],
      "execution_count": null,
      "outputs": []
    },
    {
      "cell_type": "code",
      "metadata": {
        "id": "6eKPZcJWOleO"
      },
      "source": [
        ""
      ],
      "execution_count": null,
      "outputs": []
    }
  ]
}